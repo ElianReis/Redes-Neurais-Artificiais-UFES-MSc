{
 "cells": [
  {
   "cell_type": "markdown",
   "id": "5d6fe917",
   "metadata": {},
   "source": [
    "# 🧠🤖 Brincando mais com o Neurônio de McCulloch-Pitts "
   ]
  },
  {
   "cell_type": "markdown",
   "id": "75a8dab0",
   "metadata": {},
   "source": [
    "## Preparação"
   ]
  },
  {
   "cell_type": "markdown",
   "id": "aacfa116",
   "metadata": {},
   "source": [
    "Copie a classe `MCPNeuron` construída na aula anterior para a célula abaixo. "
   ]
  },
  {
   "cell_type": "code",
   "execution_count": null,
   "id": "62a16c03",
   "metadata": {
    "tags": [
     "MCPNeuron"
    ]
   },
   "outputs": [],
   "source": [
    "# resposta:\n",
    "\n",
    "\n",
    "class MCPNeuron:\n",
    "    \"\"\"McCulloch-Pitts Neuron model\n",
    "\n",
    "    Simulates a biologic neuron using a set of weights and\n",
    "    an activation threshold.\n",
    "\n",
    "    \"\"\"\n",
    "\n",
    "    def __init__(self, weights: list[float], bias: float):\n",
    "        self._weights = weights\n",
    "        self._bias = bias\n",
    "\n",
    "    def forward(self, x: list[float]):\n",
    "        assert len(x) == len(\n",
    "            self._weights\n",
    "        ), \"a entrada deve ser do mesmo tamanho do vetor de pesos\"\n",
    "\n",
    "        soma = 0\n",
    "        for i in range(len(x)):\n",
    "            soma += x[i] * self._weights[i]\n",
    "\n",
    "        if soma >= self._bias:\n",
    "            return 1\n",
    "        else:\n",
    "            return 0"
   ]
  },
  {
   "cell_type": "code",
   "execution_count": 4,
   "id": "c6d4f6ad",
   "metadata": {},
   "outputs": [
    {
     "name": "stdout",
     "output_type": "stream",
     "text": [
      "Requirement already satisfied: requests in c:\\users\\elian\\appdata\\local\\programs\\python\\python310\\lib\\site-packages (2.28.1)\n",
      "Requirement already satisfied: Pillow in c:\\users\\elian\\appdata\\local\\programs\\python\\python310\\lib\\site-packages (9.2.0)\n",
      "Requirement already satisfied: opencv-python in c:\\users\\elian\\appdata\\local\\programs\\python\\python310\\lib\\site-packages (4.11.0.86)\n",
      "Requirement already satisfied: charset-normalizer<3,>=2 in c:\\users\\elian\\appdata\\local\\programs\\python\\python310\\lib\\site-packages (from requests) (2.1.0)\n",
      "Requirement already satisfied: certifi>=2017.4.17 in c:\\users\\elian\\appdata\\local\\programs\\python\\python310\\lib\\site-packages (from requests) (2022.6.15)\n",
      "Requirement already satisfied: urllib3<1.27,>=1.21.1 in c:\\users\\elian\\appdata\\local\\programs\\python\\python310\\lib\\site-packages (from requests) (1.26.11)\n",
      "Requirement already satisfied: idna<4,>=2.5 in c:\\users\\elian\\appdata\\local\\programs\\python\\python310\\lib\\site-packages (from requests) (3.3)\n",
      "Requirement already satisfied: numpy>=1.17.3 in c:\\users\\elian\\appdata\\local\\programs\\python\\python310\\lib\\site-packages (from opencv-python) (1.23.5)\n"
     ]
    },
    {
     "name": "stderr",
     "output_type": "stream",
     "text": [
      "WARNING: Ignoring invalid distribution -rotobuf (c:\\users\\elian\\appdata\\local\\programs\\python\\python310\\lib\\site-packages)\n",
      "WARNING: Ignoring invalid distribution -rotobuf (c:\\users\\elian\\appdata\\local\\programs\\python\\python310\\lib\\site-packages)\n",
      "WARNING: Ignoring invalid distribution -rotobuf (c:\\users\\elian\\appdata\\local\\programs\\python\\python310\\lib\\site-packages)\n",
      "WARNING: Ignoring invalid distribution -rotobuf (c:\\users\\elian\\appdata\\local\\programs\\python\\python310\\lib\\site-packages)\n",
      "WARNING: Ignoring invalid distribution -rotobuf (c:\\users\\elian\\appdata\\local\\programs\\python\\python310\\lib\\site-packages)\n",
      "WARNING: Ignoring invalid distribution -rotobuf (c:\\users\\elian\\appdata\\local\\programs\\python\\python310\\lib\\site-packages)\n",
      "\n",
      "[notice] A new release of pip available: 22.2.2 -> 25.1.1\n",
      "[notice] To update, run: python.exe -m pip install --upgrade pip\n"
     ]
    }
   ],
   "source": [
    "!python -m pip install requests Pillow opencv-python"
   ]
  },
  {
   "cell_type": "markdown",
   "id": "fa0c1a40",
   "metadata": {},
   "source": [
    "## Atividade: Implementando Circuitos "
   ]
  },
  {
   "cell_type": "markdown",
   "id": "21fc5bc9",
   "metadata": {},
   "source": [
    "Nesta atividade, vamos construir a nossa primeira **Rede Neural**, isto é, um conjunto de neurônios conectados que realizam uma ou mais tarefas.\n",
    "\n",
    "Considere o circuito exibido na Figura 1. O objetivo desta atividade é implementar este circuito utilizando apenas neurônios MCP. \n",
    "\n",
    "Crie uma classe **MCPCircuit** para representar o circuito. A classe deve possuir os seguintes métodos: \n",
    "- **construtor**: deve inicializar atributos privados do tipo MCPNeuron para representar as portas lógicas. \n",
    "- **forward**: deve receber uma lista contendo os valores de A, B, C e D, nesta ordem, e retornar a saída do circuito. \n",
    "  - Adicione um *assert* para verificar se a entrada possui tamanho 4.\n",
    "  - Os valores de A e B devem ser usados como entrada para o neurônio AND e o valor de C deve ser usado como entrada para o neurônio NOT. As saídas destes neurônios devem ser usadas como entrada para o neurônio OR. E assim por diante.\n",
    "  - Lembre-se de utilizar *type hints* para informar os tipos de entrada e saída dos métodos.\n"
   ]
  },
  {
   "cell_type": "markdown",
   "id": "d07dcd3b",
   "metadata": {},
   "source": [
    "![circuito](_assets/circuito-logica-digital.png)\n",
    "\n",
    "Figura 1: Circuito lógico."
   ]
  },
  {
   "cell_type": "code",
   "execution_count": null,
   "id": "d8ee8d37",
   "metadata": {
    "tags": [
     "MCPCircuit"
    ]
   },
   "outputs": [],
   "source": [
    "import itertools\n",
    "import pandas as pd\n",
    "\n",
    "# resposta:\n",
    "\n",
    "\n",
    "class MCPCircuit:\n",
    "    \"\"\"McCulloch-Pitts Neuron model\n",
    "\n",
    "    Simulates a biologic neuron using a set of weights and\n",
    "    an activation threshold.\n",
    "\n",
    "    \"\"\"\n",
    "\n",
    "    def __init__(self):\n",
    "        self._and = MCPNeuron(weights=[1, 1], bias=2)\n",
    "        self._or = MCPNeuron(weights=[1, 1], bias=1)\n",
    "        self._not = MCPNeuron(weights=[-1], bias=0)\n",
    "\n",
    "    def forward(self, x: list[float]):\n",
    "        assert len(x) == 4, \"a entrada deve ser do mesmo tamanho do vetor de pesos\"\n",
    "\n",
    "        a, b, c, d = x\n",
    "\n",
    "        out_and1 = self._and.forward([a, b])\n",
    "        out_not1 = self._not.forward([c])\n",
    "\n",
    "        out_or1 = self._or.forward([out_and1, out_not1])\n",
    "\n",
    "        out_and2 = self._and.forward([out_or1, d])\n",
    "        out_not2 = self._not.forward([out_and2])\n",
    "\n",
    "        return out_not2"
   ]
  },
  {
   "cell_type": "code",
   "execution_count": 9,
   "id": "38ac11ae",
   "metadata": {},
   "outputs": [
    {
     "data": {
      "text/html": [
       "<div>\n",
       "<style scoped>\n",
       "    .dataframe tbody tr th:only-of-type {\n",
       "        vertical-align: middle;\n",
       "    }\n",
       "\n",
       "    .dataframe tbody tr th {\n",
       "        vertical-align: top;\n",
       "    }\n",
       "\n",
       "    .dataframe thead th {\n",
       "        text-align: right;\n",
       "    }\n",
       "</style>\n",
       "<table border=\"1\" class=\"dataframe\">\n",
       "  <thead>\n",
       "    <tr style=\"text-align: right;\">\n",
       "      <th></th>\n",
       "      <th>a</th>\n",
       "      <th>b</th>\n",
       "      <th>c</th>\n",
       "      <th>d</th>\n",
       "      <th>result</th>\n",
       "    </tr>\n",
       "  </thead>\n",
       "  <tbody>\n",
       "    <tr>\n",
       "      <th>0</th>\n",
       "      <td>0</td>\n",
       "      <td>0</td>\n",
       "      <td>0</td>\n",
       "      <td>0</td>\n",
       "      <td>1</td>\n",
       "    </tr>\n",
       "    <tr>\n",
       "      <th>1</th>\n",
       "      <td>0</td>\n",
       "      <td>0</td>\n",
       "      <td>0</td>\n",
       "      <td>1</td>\n",
       "      <td>0</td>\n",
       "    </tr>\n",
       "    <tr>\n",
       "      <th>2</th>\n",
       "      <td>0</td>\n",
       "      <td>0</td>\n",
       "      <td>1</td>\n",
       "      <td>0</td>\n",
       "      <td>1</td>\n",
       "    </tr>\n",
       "    <tr>\n",
       "      <th>3</th>\n",
       "      <td>0</td>\n",
       "      <td>0</td>\n",
       "      <td>1</td>\n",
       "      <td>1</td>\n",
       "      <td>1</td>\n",
       "    </tr>\n",
       "    <tr>\n",
       "      <th>4</th>\n",
       "      <td>0</td>\n",
       "      <td>1</td>\n",
       "      <td>0</td>\n",
       "      <td>0</td>\n",
       "      <td>1</td>\n",
       "    </tr>\n",
       "    <tr>\n",
       "      <th>5</th>\n",
       "      <td>0</td>\n",
       "      <td>1</td>\n",
       "      <td>0</td>\n",
       "      <td>1</td>\n",
       "      <td>0</td>\n",
       "    </tr>\n",
       "    <tr>\n",
       "      <th>6</th>\n",
       "      <td>0</td>\n",
       "      <td>1</td>\n",
       "      <td>1</td>\n",
       "      <td>0</td>\n",
       "      <td>1</td>\n",
       "    </tr>\n",
       "    <tr>\n",
       "      <th>7</th>\n",
       "      <td>0</td>\n",
       "      <td>1</td>\n",
       "      <td>1</td>\n",
       "      <td>1</td>\n",
       "      <td>1</td>\n",
       "    </tr>\n",
       "    <tr>\n",
       "      <th>8</th>\n",
       "      <td>1</td>\n",
       "      <td>0</td>\n",
       "      <td>0</td>\n",
       "      <td>0</td>\n",
       "      <td>1</td>\n",
       "    </tr>\n",
       "    <tr>\n",
       "      <th>9</th>\n",
       "      <td>1</td>\n",
       "      <td>0</td>\n",
       "      <td>0</td>\n",
       "      <td>1</td>\n",
       "      <td>0</td>\n",
       "    </tr>\n",
       "    <tr>\n",
       "      <th>10</th>\n",
       "      <td>1</td>\n",
       "      <td>0</td>\n",
       "      <td>1</td>\n",
       "      <td>0</td>\n",
       "      <td>1</td>\n",
       "    </tr>\n",
       "    <tr>\n",
       "      <th>11</th>\n",
       "      <td>1</td>\n",
       "      <td>0</td>\n",
       "      <td>1</td>\n",
       "      <td>1</td>\n",
       "      <td>1</td>\n",
       "    </tr>\n",
       "    <tr>\n",
       "      <th>12</th>\n",
       "      <td>1</td>\n",
       "      <td>1</td>\n",
       "      <td>0</td>\n",
       "      <td>0</td>\n",
       "      <td>1</td>\n",
       "    </tr>\n",
       "    <tr>\n",
       "      <th>13</th>\n",
       "      <td>1</td>\n",
       "      <td>1</td>\n",
       "      <td>0</td>\n",
       "      <td>1</td>\n",
       "      <td>0</td>\n",
       "    </tr>\n",
       "    <tr>\n",
       "      <th>14</th>\n",
       "      <td>1</td>\n",
       "      <td>1</td>\n",
       "      <td>1</td>\n",
       "      <td>0</td>\n",
       "      <td>1</td>\n",
       "    </tr>\n",
       "    <tr>\n",
       "      <th>15</th>\n",
       "      <td>1</td>\n",
       "      <td>1</td>\n",
       "      <td>1</td>\n",
       "      <td>1</td>\n",
       "      <td>0</td>\n",
       "    </tr>\n",
       "  </tbody>\n",
       "</table>\n",
       "</div>"
      ],
      "text/plain": [
       "    a  b  c  d  result\n",
       "0   0  0  0  0       1\n",
       "1   0  0  0  1       0\n",
       "2   0  0  1  0       1\n",
       "3   0  0  1  1       1\n",
       "4   0  1  0  0       1\n",
       "5   0  1  0  1       0\n",
       "6   0  1  1  0       1\n",
       "7   0  1  1  1       1\n",
       "8   1  0  0  0       1\n",
       "9   1  0  0  1       0\n",
       "10  1  0  1  0       1\n",
       "11  1  0  1  1       1\n",
       "12  1  1  0  0       1\n",
       "13  1  1  0  1       0\n",
       "14  1  1  1  0       1\n",
       "15  1  1  1  1       0"
      ]
     },
     "execution_count": 9,
     "metadata": {},
     "output_type": "execute_result"
    }
   ],
   "source": [
    "def truth_table(circuit: MCPCircuit) -> pd.DataFrame:\n",
    "    combinations = list(itertools.product([0, 1], repeat=4))\n",
    "    table = [c + (circuit.forward(c),) for c in combinations]\n",
    "    return pd.DataFrame(table, columns=\"a b c d result\".split())\n",
    "\n",
    "circuit = MCPCircuit()\n",
    "truth_table(circuit)  # deve exibir a tabela verdade"
   ]
  },
  {
   "cell_type": "markdown",
   "id": "16547ab4",
   "metadata": {},
   "source": [
    "## Atividade: De volta ao XOR"
   ]
  },
  {
   "cell_type": "markdown",
   "id": "cdea430d",
   "metadata": {},
   "source": [
    "Na aula passada, vimos que um neurônio MCP é incapaz de implementar a porta lógica XOR. \n",
    "\n",
    "Inspirados pelo exercício anterior, surge a questão: será que uma rede neural composta por sequências de neurônios MCP é capaz de implementar o XOR? E a resposta é **SIM**!\n",
    "\n",
    "A Figura 2 mostra um circuito capaz de implementar o XOR usando portas lógicas AND, NOT e OR. \n",
    "\n",
    "Crie uma classe similar à anterior para reproduzir o circuito. \n",
    "\n",
    "Esta atividade demonstra um resultado importante: **redes neurais com sequências de duas ou mais camadas contendo funções de ativação não-lineares (como a função degrau utilizada até agora), são capazes de representar funções não lineares**!"
   ]
  },
  {
   "cell_type": "markdown",
   "id": "c60d79fa",
   "metadata": {},
   "source": [
    "![xor circuit](_assets/XOR-gate-circuit.jpg)\n",
    "\n",
    "Figura 2: Circuito XOR."
   ]
  },
  {
   "cell_type": "code",
   "execution_count": null,
   "id": "afe67730",
   "metadata": {
    "tags": [
     "XorCircuit"
    ]
   },
   "outputs": [],
   "source": [
    "import itertools\n",
    "import pandas as pd\n",
    "\n",
    "# resposta:\n",
    "\n",
    "\n",
    "class XorCircuit:\n",
    "    def __init__(self):\n",
    "        self._and = MCPNeuron(weights=[1, 1], bias=2)\n",
    "        self._or = MCPNeuron(weights=[1, 1], bias=1)\n",
    "        self._not = MCPNeuron(weights=[-1], bias=0)\n",
    "\n",
    "    def forward(self, x: list[float]):\n",
    "        assert len(x) == 2, \"Input must have 2 elements (A, B)\"\n",
    "\n",
    "        a, b = x\n",
    "        not_a = self._not.forward([a])\n",
    "        not_b = self._not.forward([b])\n",
    "\n",
    "        a_and_not_b = self._and.forward([a, not_b])\n",
    "\n",
    "        not_a_and_b = self._and.forward([not_a, b])\n",
    "\n",
    "        return self._or.forward([a_and_not_b, not_a_and_b])"
   ]
  },
  {
   "cell_type": "code",
   "execution_count": 13,
   "id": "486b94b6",
   "metadata": {},
   "outputs": [
    {
     "data": {
      "text/html": [
       "<div>\n",
       "<style scoped>\n",
       "    .dataframe tbody tr th:only-of-type {\n",
       "        vertical-align: middle;\n",
       "    }\n",
       "\n",
       "    .dataframe tbody tr th {\n",
       "        vertical-align: top;\n",
       "    }\n",
       "\n",
       "    .dataframe thead th {\n",
       "        text-align: right;\n",
       "    }\n",
       "</style>\n",
       "<table border=\"1\" class=\"dataframe\">\n",
       "  <thead>\n",
       "    <tr style=\"text-align: right;\">\n",
       "      <th></th>\n",
       "      <th>a</th>\n",
       "      <th>b</th>\n",
       "      <th>result</th>\n",
       "    </tr>\n",
       "  </thead>\n",
       "  <tbody>\n",
       "    <tr>\n",
       "      <th>0</th>\n",
       "      <td>0</td>\n",
       "      <td>0</td>\n",
       "      <td>0</td>\n",
       "    </tr>\n",
       "    <tr>\n",
       "      <th>1</th>\n",
       "      <td>0</td>\n",
       "      <td>1</td>\n",
       "      <td>1</td>\n",
       "    </tr>\n",
       "    <tr>\n",
       "      <th>2</th>\n",
       "      <td>1</td>\n",
       "      <td>0</td>\n",
       "      <td>1</td>\n",
       "    </tr>\n",
       "    <tr>\n",
       "      <th>3</th>\n",
       "      <td>1</td>\n",
       "      <td>1</td>\n",
       "      <td>0</td>\n",
       "    </tr>\n",
       "  </tbody>\n",
       "</table>\n",
       "</div>"
      ],
      "text/plain": [
       "   a  b  result\n",
       "0  0  0       0\n",
       "1  0  1       1\n",
       "2  1  0       1\n",
       "3  1  1       0"
      ]
     },
     "execution_count": 13,
     "metadata": {},
     "output_type": "execute_result"
    }
   ],
   "source": [
    "def truth_table(circuit: MCPCircuit) -> pd.DataFrame:\n",
    "    combinations = list(itertools.product([0, 1], repeat=2))\n",
    "    table = [c + (circuit.forward(c), ) for c in combinations]\n",
    "    return pd.DataFrame(table, columns='a b result'.split())\n",
    "\n",
    "\n",
    "circuit = XorCircuit()\n",
    "truth_table(circuit) # deve exibir a tabela verdade do XOR"
   ]
  }
 ],
 "metadata": {
  "kernelspec": {
   "display_name": "Python 3",
   "language": "python",
   "name": "python3"
  },
  "language_info": {
   "codemirror_mode": {
    "name": "ipython",
    "version": 3
   },
   "file_extension": ".py",
   "mimetype": "text/x-python",
   "name": "python",
   "nbconvert_exporter": "python",
   "pygments_lexer": "ipython3",
   "version": "3.10.5"
  }
 },
 "nbformat": 4,
 "nbformat_minor": 5
}
