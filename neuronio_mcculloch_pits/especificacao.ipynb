{
 "cells": [
  {
   "cell_type": "markdown",
   "metadata": {
    "id": "aoNqJ0wG8D22"
   },
   "source": [
    "# 🧠🤖 O Neurônio de McCulloch-Pitts "
   ]
  },
  {
   "cell_type": "markdown",
   "metadata": {},
   "source": [
    "<img src=\"_assets/001-mcp-neuron-model.png\" width=\"640\" />\n",
    "\n",
    "Figura 1: Neurônio de McCulloch-Pitts "
   ]
  },
  {
   "cell_type": "markdown",
   "metadata": {},
   "source": [
    "\n",
    "## Definição\n",
    "\n",
    "O neurônio de **McCulloch-Pitts (MCP)** (McCulloch and Pitts, 1943) foi o primeiro modelo matematico-computacional do neurônio biológico. \n",
    "\n",
    "Como ilustrado na Figura 1:\n",
    "\n",
    "- Ele recebe $m$ valores de **entrada**, $\\left[ x_1, x_2, ..., x_m \\right]$ representando pulsos elétricos. \n",
    "- Estes sinais são multiplicados por $m$ **pesos**, $\\left[ w_1, w_2, ..., w_m \\right]$, que simulam a resistência elétrica das sinapses e modificam a quantidade do sinal que atualmente chega ao corpo do neurônio. \n",
    "- Se a soma ponderada das entradas for maior que um **limiar**, diz-se que o neurônio se ativou e a saída é definida como $1$. Caso contrário, a saída é definida como $0$.\n",
    "- A função de limiar que gera a saída do neurônio a partir da soma ponderada das entradas é uma **função de ativação**. Como veremos ao longo do curso, existem outros tipos de função de ativação.\n",
    "- Originalmente, os valores de entrada eram binários (0 ou 1) e os valores dos pesos eram -1 (sinapses inibitórias), 0 ou 1 (sinapses excitatórias).\n",
    "\n",
    "**Importante**: O **limiar de ativação** é tipicamente chamado de **bias** e representado pela letra $b$. Vamos adotar esta notação deste ponto em diante.\n",
    "\n",
    "Matematicamente, a operação realizada pelo neurônio MCP pode ser escrita como: \n",
    "\n",
    "$$\n",
    "y(x_1, \\dots, x_d) =\n",
    "\\begin{cases}\n",
    "1,\\text{ se } \\sum_{i=1}^{m} w_i x_i >= b \\\\\n",
    "0, \\text{ caso contrário}\n",
    "\\end{cases}\n",
    "$$\n"
   ]
  },
  {
   "cell_type": "markdown",
   "metadata": {},
   "source": [
    "## Nomeclatura"
   ]
  },
  {
   "cell_type": "markdown",
   "metadata": {},
   "source": [
    "\n",
    "Na área de Redes Neurais, é comum o uso de nomes diferentes para as mesmas coisas. \n",
    "\n",
    "**Neurônios artificiais**, por exemplo, também são chamados de:\n",
    "\n",
    "- **Unidade (unit)**.\n",
    "- **Nó (node)**.\n",
    "- **Célula (cell)** – mais comum em redes recorrentes.\n",
    "- **Unidade de processamento (processing unit)**.\n"
   ]
  },
  {
   "cell_type": "markdown",
   "metadata": {},
   "source": [
    "## Atividades"
   ]
  },
  {
   "cell_type": "markdown",
   "metadata": {},
   "source": [
    "### Atividade 1: Implementação do Neurônio de McCulloch-Pitts (MCP)"
   ]
  },
  {
   "cell_type": "markdown",
   "metadata": {},
   "source": [
    "Implemente o construtor e o método forward na célula abaixo. \n",
    "\n",
    "- O construtor deve armazenar os pesos (lista de floats) e o bias (float) como atributos privados da classe.\n",
    "- A função forward deve receber um vetor de entrada x (lista de floats) e retornar o valor de saída do neurônio (float, 0 ou 1). Adicione um assert para verificar se o tamanho da entrada é igual o tamanho da lista de pesos.\n",
    "\n",
    "**Importante**: mesmo se você já conhece a biblioteca numpy, utilize listas do python neste exercício."
   ]
  },
  {
   "cell_type": "code",
   "execution_count": null,
   "metadata": {
    "tags": [
     "MCPNeuron"
    ]
   },
   "outputs": [
    {
     "data": {
      "text/plain": [
       "1"
      ]
     },
     "execution_count": 2,
     "metadata": {},
     "output_type": "execute_result"
    }
   ],
   "source": [
    "# resposta:\n",
    "\n",
    "class MCPNeuron:\n",
    "    \"\"\"McCulloch-Pitts Neuron model\n",
    "\n",
    "    Simulates a biologic neuron using a set of weights and\n",
    "    an activation threshold.\n",
    "\n",
    "    \"\"\"\n",
    "\n",
    "    def __init__(self, weights: list[float], bias: float):\n",
    "        self._weights = weights\n",
    "        self._bias = bias\n",
    "\n",
    "    def forward(self, x: list[float]):\n",
    "        assert len(x) == len(self._weights), 'a entrada deve ser do mesmo tamanho do vetor de pesos'\n",
    "\n",
    "        soma = 0\n",
    "        for i in range(len(x)):\n",
    "          soma += x[i] * self._weights[i]\n",
    "\n",
    "        if soma >= self._bias:\n",
    "          return 1\n",
    "        else:\n",
    "          return 0"
   ]
  },
  {
   "cell_type": "code",
   "execution_count": null,
   "metadata": {},
   "outputs": [],
   "source": [
    "neuron = MCPNeuron(weights=[0.25, 0.5], bias=1)\n",
    "neuron.forward([4, 0]) # resultado esperado = 1"
   ]
  },
  {
   "cell_type": "markdown",
   "metadata": {},
   "source": [
    "### Atividade 2: Neurônios MCP como Operadores Lógicos"
   ]
  },
  {
   "cell_type": "markdown",
   "metadata": {},
   "source": [
    "Código de preparação da atividade (não é necessário modificar)."
   ]
  },
  {
   "cell_type": "code",
   "execution_count": 3,
   "metadata": {},
   "outputs": [],
   "source": [
    "import pandas as pd\n",
    "\n",
    "\n",
    "def unary_truth_table(neuron: MCPNeuron):\n",
    "    table = []\n",
    "    for a in [0, 1]:\n",
    "        table.append([a, neuron.forward([a])])\n",
    "    return pd.DataFrame(table, columns='a result'.split())\n",
    "\n",
    "\n",
    "def binary_truth_table(neuron: MCPNeuron):\n",
    "    table = []\n",
    "    for a in [0, 1]:\n",
    "        for b in [0, 1]:\n",
    "            table.append([a, b, neuron.forward([a, b])])\n",
    "    return pd.DataFrame(table, columns='a b result'.split())\n",
    "\n"
   ]
  },
  {
   "cell_type": "markdown",
   "metadata": {},
   "source": [
    "#### Atividade 2.1: Operador lógico AND"
   ]
  },
  {
   "cell_type": "markdown",
   "metadata": {},
   "source": [
    "Crie um neurônio cujos pesos e bias implementem a função AND."
   ]
  },
  {
   "cell_type": "code",
   "execution_count": null,
   "metadata": {
    "tags": [
     "neuron_and"
    ]
   },
   "outputs": [
    {
     "data": {
      "text/html": [
       "<div>\n",
       "<style scoped>\n",
       "    .dataframe tbody tr th:only-of-type {\n",
       "        vertical-align: middle;\n",
       "    }\n",
       "\n",
       "    .dataframe tbody tr th {\n",
       "        vertical-align: top;\n",
       "    }\n",
       "\n",
       "    .dataframe thead th {\n",
       "        text-align: right;\n",
       "    }\n",
       "</style>\n",
       "<table border=\"1\" class=\"dataframe\">\n",
       "  <thead>\n",
       "    <tr style=\"text-align: right;\">\n",
       "      <th></th>\n",
       "      <th>a</th>\n",
       "      <th>b</th>\n",
       "      <th>result</th>\n",
       "    </tr>\n",
       "  </thead>\n",
       "  <tbody>\n",
       "    <tr>\n",
       "      <th>0</th>\n",
       "      <td>0</td>\n",
       "      <td>0</td>\n",
       "      <td>0</td>\n",
       "    </tr>\n",
       "    <tr>\n",
       "      <th>1</th>\n",
       "      <td>0</td>\n",
       "      <td>1</td>\n",
       "      <td>0</td>\n",
       "    </tr>\n",
       "    <tr>\n",
       "      <th>2</th>\n",
       "      <td>1</td>\n",
       "      <td>0</td>\n",
       "      <td>0</td>\n",
       "    </tr>\n",
       "    <tr>\n",
       "      <th>3</th>\n",
       "      <td>1</td>\n",
       "      <td>1</td>\n",
       "      <td>1</td>\n",
       "    </tr>\n",
       "  </tbody>\n",
       "</table>\n",
       "</div>"
      ],
      "text/plain": [
       "   a  b  result\n",
       "0  0  0       0\n",
       "1  0  1       0\n",
       "2  1  0       0\n",
       "3  1  1       1"
      ]
     },
     "execution_count": 4,
     "metadata": {},
     "output_type": "execute_result"
    }
   ],
   "source": [
    "# resposta:\n",
    "\n",
    "neuron_and = MCPNeuron(weights=[1, 1], bias=2)"
   ]
  },
  {
   "cell_type": "code",
   "execution_count": null,
   "metadata": {},
   "outputs": [],
   "source": [
    "# print the truth table for the logical operator AND\n",
    "binary_truth_table(neuron_and)"
   ]
  },
  {
   "cell_type": "markdown",
   "metadata": {},
   "source": [
    "#### Atividade 2.2: Operador lógico OR"
   ]
  },
  {
   "cell_type": "markdown",
   "metadata": {},
   "source": [
    "Crie um neurônio cujos pesos e bias implementem a função OR."
   ]
  },
  {
   "cell_type": "code",
   "execution_count": null,
   "metadata": {
    "tags": [
     "neuron_or"
    ]
   },
   "outputs": [
    {
     "data": {
      "text/html": [
       "<div>\n",
       "<style scoped>\n",
       "    .dataframe tbody tr th:only-of-type {\n",
       "        vertical-align: middle;\n",
       "    }\n",
       "\n",
       "    .dataframe tbody tr th {\n",
       "        vertical-align: top;\n",
       "    }\n",
       "\n",
       "    .dataframe thead th {\n",
       "        text-align: right;\n",
       "    }\n",
       "</style>\n",
       "<table border=\"1\" class=\"dataframe\">\n",
       "  <thead>\n",
       "    <tr style=\"text-align: right;\">\n",
       "      <th></th>\n",
       "      <th>a</th>\n",
       "      <th>b</th>\n",
       "      <th>result</th>\n",
       "    </tr>\n",
       "  </thead>\n",
       "  <tbody>\n",
       "    <tr>\n",
       "      <th>0</th>\n",
       "      <td>0</td>\n",
       "      <td>0</td>\n",
       "      <td>0</td>\n",
       "    </tr>\n",
       "    <tr>\n",
       "      <th>1</th>\n",
       "      <td>0</td>\n",
       "      <td>1</td>\n",
       "      <td>1</td>\n",
       "    </tr>\n",
       "    <tr>\n",
       "      <th>2</th>\n",
       "      <td>1</td>\n",
       "      <td>0</td>\n",
       "      <td>1</td>\n",
       "    </tr>\n",
       "    <tr>\n",
       "      <th>3</th>\n",
       "      <td>1</td>\n",
       "      <td>1</td>\n",
       "      <td>1</td>\n",
       "    </tr>\n",
       "  </tbody>\n",
       "</table>\n",
       "</div>"
      ],
      "text/plain": [
       "   a  b  result\n",
       "0  0  0       0\n",
       "1  0  1       1\n",
       "2  1  0       1\n",
       "3  1  1       1"
      ]
     },
     "execution_count": 5,
     "metadata": {},
     "output_type": "execute_result"
    }
   ],
   "source": [
    "# resposta:\n",
    "\n",
    "neuron_or = MCPNeuron(weights=[1, 1], bias=1)"
   ]
  },
  {
   "cell_type": "code",
   "execution_count": null,
   "metadata": {},
   "outputs": [],
   "source": [
    "# print the truth table for the logical operator OR\n",
    "binary_truth_table(neuron_or)"
   ]
  },
  {
   "cell_type": "markdown",
   "metadata": {},
   "source": [
    "#### Atividade 2.3: Operador lógico NOT"
   ]
  },
  {
   "cell_type": "markdown",
   "metadata": {},
   "source": [
    "Crie um neurônio cujos pesos e bias implementem a função NOT."
   ]
  },
  {
   "cell_type": "code",
   "execution_count": null,
   "metadata": {
    "tags": [
     "neuron_not"
    ]
   },
   "outputs": [
    {
     "data": {
      "text/html": [
       "<div>\n",
       "<style scoped>\n",
       "    .dataframe tbody tr th:only-of-type {\n",
       "        vertical-align: middle;\n",
       "    }\n",
       "\n",
       "    .dataframe tbody tr th {\n",
       "        vertical-align: top;\n",
       "    }\n",
       "\n",
       "    .dataframe thead th {\n",
       "        text-align: right;\n",
       "    }\n",
       "</style>\n",
       "<table border=\"1\" class=\"dataframe\">\n",
       "  <thead>\n",
       "    <tr style=\"text-align: right;\">\n",
       "      <th></th>\n",
       "      <th>a</th>\n",
       "      <th>result</th>\n",
       "    </tr>\n",
       "  </thead>\n",
       "  <tbody>\n",
       "    <tr>\n",
       "      <th>0</th>\n",
       "      <td>0</td>\n",
       "      <td>1</td>\n",
       "    </tr>\n",
       "    <tr>\n",
       "      <th>1</th>\n",
       "      <td>1</td>\n",
       "      <td>0</td>\n",
       "    </tr>\n",
       "  </tbody>\n",
       "</table>\n",
       "</div>"
      ],
      "text/plain": [
       "   a  result\n",
       "0  0       1\n",
       "1  1       0"
      ]
     },
     "execution_count": 6,
     "metadata": {},
     "output_type": "execute_result"
    }
   ],
   "source": [
    "# resposta:\n",
    "\n",
    "neuron_not = MCPNeuron(weights=[-1], bias=0)"
   ]
  },
  {
   "cell_type": "code",
   "execution_count": null,
   "metadata": {},
   "outputs": [],
   "source": [
    "# print the truth table for the logical operator NOT\n",
    "unary_truth_table(neuron_not)"
   ]
  },
  {
   "cell_type": "markdown",
   "metadata": {},
   "source": [
    "#### Operador Lógico XOR"
   ]
  },
  {
   "cell_type": "markdown",
   "metadata": {},
   "source": [
    "Tente criar um neurônio cujos pesos e bias implementem a função XOR."
   ]
  },
  {
   "cell_type": "code",
   "execution_count": 7,
   "metadata": {},
   "outputs": [],
   "source": [
    "# resposta:"
   ]
  },
  {
   "cell_type": "markdown",
   "metadata": {},
   "source": [
    "#### Atividade 2.4: Operador And com n entradas"
   ]
  },
  {
   "cell_type": "markdown",
   "metadata": {},
   "source": [
    "Use herança criar uma classe que herde de MCPNeuron e implemente a função And com n entradas."
   ]
  },
  {
   "cell_type": "code",
   "execution_count": null,
   "metadata": {
    "tags": [
     "GenericAnd"
    ]
   },
   "outputs": [],
   "source": [
    "# resposta:\n",
    "\n",
    "class GenericAnd(MCPNeuron):\n",
    "    def __init__(self, n):\n",
    "      _weights = [1 for _ in range(n)]\n",
    "      super().__init__(weights=_weights, bias=n)\n",
    "\n",
    "      def forward(self, x: list[float]):\n",
    "          return self.forward(x)"
   ]
  },
  {
   "cell_type": "code",
   "execution_count": 11,
   "metadata": {},
   "outputs": [
    {
     "data": {
      "text/plain": [
       "0.0"
      ]
     },
     "execution_count": 11,
     "metadata": {},
     "output_type": "execute_result"
    }
   ],
   "source": [
    "n = 5\n",
    "generic_and = GenericAnd(n)\n",
    "generic_and.forward([1, 1, 1, 1, 0])  # esperado: 0"
   ]
  },
  {
   "cell_type": "markdown",
   "metadata": {},
   "source": [
    "## O limiar de ativação (bias) como uma Entrada \n",
    "\n",
    "Podemos reescrever o critério de ativação do neurônio de forma que o pulso seja produzido sempre que a energia acumulada no corpo do neurônio for maior ou igual a 0. Para isto, vamos subtrair o valor do limiar dos dois lados da inequação:\n",
    "\n",
    "$$\n",
    "\\sum_{i=1}^{m} w_i x_i >= b \\implies \\left[ \\sum_{i=1}^{m} w_i x_i \\right] - b >= 0\n",
    "$$\n",
    "\n",
    "\n",
    "Historicamente, alguns autores utilizam  $-b$ como o peso associado à uma entrada especial que é sempre $1$. Ao fazer isto, o limiar se torna um peso como os demais e o critério de ativação se torna:\n",
    "\n",
    "$$\n",
    "\\sum_{i=0}^{m} w_i x_i >= 0, \\text { onde } x_0 = 1 \\text{ e } w_0 = -b\n",
    "$$\n",
    "\n",
    "Por isto, algumas figuras como a Figura 2, trazem o limiar como uma entrada especial do neurônio.\n",
    "\n"
   ]
  },
  {
   "cell_type": "markdown",
   "metadata": {},
   "source": [
    "![perceptron.drawio (7).png](data:image/png;base64,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)\n",
    "\n",
    "Figura 2: Neurônio MCP com Limiar (*bias*) sendo utilizado como peso associado à uma entrada com valor 1."
   ]
  },
  {
   "cell_type": "markdown",
   "metadata": {},
   "source": [
    "## Entradas e Pesos como Vetores"
   ]
  },
  {
   "cell_type": "markdown",
   "metadata": {},
   "source": [
    "A **entrada** do neurônio MCP pode ser vista como um ponto ou vetor de números reais:\n",
    "  \n",
    "$$\n",
    "\\mathbf{x} = \\begin{bmatrix} x_1\\\\ \\vdots\\\\ x_d \\end{bmatrix}.\n",
    "$$\n",
    "\n",
    "Da mesma forma, os **pesos** também podem ser organizados em um vetor: \n",
    "\n",
    "$$\n",
    "\\mathbf{w} = \\begin{bmatrix} w_1\\\\ \\vdots\\\\ w_d \\end{bmatrix}.\n",
    "$$\n",
    "\n",
    "Observe que a soma ponderada das entradas equivale ao produto escalar (produto interno no espaço Euclidiano) entre estes vetores. \n",
    "\n",
    "$$\n",
    "\\mathbf{w} \\cdot \\mathbf{x} = \\sum_{i=1}^{m} w_i x_i\n",
    "$$\n",
    "\n",
    "Como o valor do limiar é escolhido pelo usuário, o sinal da operação (soma ou subtração) não é relevante. A expressão $a-b$ com $b=10$ é equivalente à operação $a+b$ com $b=-10$. A convenção da literatura é utilizar a operação de soma. Assim, utilizando a notação matricial, a operação realizada pelo neurônio pode ser reescrita como:\n",
    "\n",
    "$$\n",
    "y(\\mathbf{x}) =\n",
    "\\begin{cases}\n",
    "1,\\text{ se } \\mathbf{w}^T \\mathbf{x} + b >= 0 \\\\\n",
    "0, \\text{ caso contrário}\n",
    "\\end{cases}\n",
    "$$\n",
    "\n",
    "Esta representação é a que será encontrada com mais frequência em livros de redes neurais.\n"
   ]
  },
  {
   "cell_type": "markdown",
   "metadata": {},
   "source": [
    "## O Neurônio MCP como um Classificador"
   ]
  },
  {
   "cell_type": "markdown",
   "metadata": {
    "id": "3ExS9b_ZW1Sy"
   },
   "source": [
    "Apesar de simples, o neurônio MCP pode ser visto como um classificador. \n",
    "\n",
    "Para mostrar como isso pode ser feito, vamos utilizar um conjunto de dados de exemplo apresentado abaixo. \n",
    "\n",
    "O conjunto de dados é composto por um conjunto pontos com coordenadas $(x_1, x_2)$, cada um podendo ser ou da classe $0$ ou da classe $1$."
   ]
  },
  {
   "cell_type": "code",
   "execution_count": null,
   "metadata": {
    "cellView": "form",
    "colab": {
     "base_uri": "https://localhost:8080/",
     "height": 488
    },
    "executionInfo": {
     "elapsed": 111,
     "status": "ok",
     "timestamp": 1743356343577,
     "user": {
      "displayName": "Giovanni Comarela",
      "userId": "16730098677819514318"
     },
     "user_tz": 180
    },
    "id": "DRobm63CwUSc",
    "outputId": "2d1449d7-25dd-42ca-aede-79d64887f75e"
   },
   "outputs": [
    {
     "data": {
      "text/html": [
       "<div>\n",
       "<style scoped>\n",
       "    .dataframe tbody tr th:only-of-type {\n",
       "        vertical-align: middle;\n",
       "    }\n",
       "\n",
       "    .dataframe tbody tr th {\n",
       "        vertical-align: top;\n",
       "    }\n",
       "\n",
       "    .dataframe thead th {\n",
       "        text-align: right;\n",
       "    }\n",
       "</style>\n",
       "<table border=\"1\" class=\"dataframe\">\n",
       "  <thead>\n",
       "    <tr style=\"text-align: right;\">\n",
       "      <th></th>\n",
       "      <th>x1</th>\n",
       "      <th>x2</th>\n",
       "      <th>Classe</th>\n",
       "    </tr>\n",
       "  </thead>\n",
       "  <tbody>\n",
       "    <tr>\n",
       "      <th>0</th>\n",
       "      <td>3.50</td>\n",
       "      <td>4.25</td>\n",
       "      <td>1</td>\n",
       "    </tr>\n",
       "    <tr>\n",
       "      <th>1</th>\n",
       "      <td>4.00</td>\n",
       "      <td>3.00</td>\n",
       "      <td>1</td>\n",
       "    </tr>\n",
       "    <tr>\n",
       "      <th>2</th>\n",
       "      <td>4.00</td>\n",
       "      <td>4.00</td>\n",
       "      <td>1</td>\n",
       "    </tr>\n",
       "    <tr>\n",
       "      <th>3</th>\n",
       "      <td>4.50</td>\n",
       "      <td>1.75</td>\n",
       "      <td>1</td>\n",
       "    </tr>\n",
       "    <tr>\n",
       "      <th>4</th>\n",
       "      <td>4.90</td>\n",
       "      <td>4.50</td>\n",
       "      <td>1</td>\n",
       "    </tr>\n",
       "    <tr>\n",
       "      <th>5</th>\n",
       "      <td>5.00</td>\n",
       "      <td>4.00</td>\n",
       "      <td>1</td>\n",
       "    </tr>\n",
       "    <tr>\n",
       "      <th>6</th>\n",
       "      <td>5.50</td>\n",
       "      <td>2.50</td>\n",
       "      <td>1</td>\n",
       "    </tr>\n",
       "    <tr>\n",
       "      <th>7</th>\n",
       "      <td>5.50</td>\n",
       "      <td>3.50</td>\n",
       "      <td>1</td>\n",
       "    </tr>\n",
       "    <tr>\n",
       "      <th>8</th>\n",
       "      <td>0.50</td>\n",
       "      <td>1.50</td>\n",
       "      <td>0</td>\n",
       "    </tr>\n",
       "    <tr>\n",
       "      <th>9</th>\n",
       "      <td>1.00</td>\n",
       "      <td>2.50</td>\n",
       "      <td>0</td>\n",
       "    </tr>\n",
       "    <tr>\n",
       "      <th>10</th>\n",
       "      <td>1.25</td>\n",
       "      <td>0.50</td>\n",
       "      <td>0</td>\n",
       "    </tr>\n",
       "    <tr>\n",
       "      <th>11</th>\n",
       "      <td>1.50</td>\n",
       "      <td>1.50</td>\n",
       "      <td>0</td>\n",
       "    </tr>\n",
       "    <tr>\n",
       "      <th>12</th>\n",
       "      <td>2.00</td>\n",
       "      <td>2.00</td>\n",
       "      <td>0</td>\n",
       "    </tr>\n",
       "    <tr>\n",
       "      <th>13</th>\n",
       "      <td>2.50</td>\n",
       "      <td>0.75</td>\n",
       "      <td>0</td>\n",
       "    </tr>\n",
       "  </tbody>\n",
       "</table>\n",
       "</div>"
      ],
      "text/plain": [
       "      x1    x2  Classe\n",
       "0   3.50  4.25       1\n",
       "1   4.00  3.00       1\n",
       "2   4.00  4.00       1\n",
       "3   4.50  1.75       1\n",
       "4   4.90  4.50       1\n",
       "5   5.00  4.00       1\n",
       "6   5.50  2.50       1\n",
       "7   5.50  3.50       1\n",
       "8   0.50  1.50       0\n",
       "9   1.00  2.50       0\n",
       "10  1.25  0.50       0\n",
       "11  1.50  1.50       0\n",
       "12  2.00  2.00       0\n",
       "13  2.50  0.75       0"
      ]
     },
     "execution_count": 12,
     "metadata": {},
     "output_type": "execute_result"
    }
   ],
   "source": [
    "\n",
    "import numpy as np\n",
    "import pandas as pd\n",
    "\n",
    "df = pd.DataFrame([[3.5, 4.25, 1],\n",
    "     [4, 3, 1],\n",
    "     [4, 4, 1],\n",
    "     [4.5, 1.75, 1],\n",
    "     [4.9, 4.5, 1],\n",
    "     [5, 4, 1],\n",
    "     [5.5, 2.5, 1],\n",
    "     [5.5, 3.5, 1],\n",
    "     [0.5, 1.5, 0],\n",
    "     [1, 2.5, 0],\n",
    "     [1.25, 0.5, 0],\n",
    "     [1.5, 1.5, 0],\n",
    "     [2, 2, 0],\n",
    "     [2.5, 0.75, 0]], columns = 'x1 x2 Classe'.split())\n",
    "\n",
    "df"
   ]
  },
  {
   "cell_type": "markdown",
   "metadata": {
    "id": "-mKAd4I2XKXE"
   },
   "source": [
    "Os elementos do conjunto de dados e as respectivas classes podem ser visualizados na Figura abaixo."
   ]
  },
  {
   "cell_type": "code",
   "execution_count": 13,
   "metadata": {
    "cellView": "form",
    "colab": {
     "base_uri": "https://localhost:8080/",
     "height": 501
    },
    "executionInfo": {
     "elapsed": 292,
     "status": "ok",
     "timestamp": 1743356343870,
     "user": {
      "displayName": "Giovanni Comarela",
      "userId": "16730098677819514318"
     },
     "user_tz": 180
    },
    "id": "SZS52Loyx24h",
    "outputId": "2191a029-a361-44d4-812d-2d81e5c37bcd"
   },
   "outputs": [
    {
     "data": {
      "image/png": "[encoded data removed]",
      "text/plain": [
       "<Figure size 563.5x500 with 1 Axes>"
      ]
     },
     "metadata": {},
     "output_type": "display_data"
    }
   ],
   "source": [
    "import matplotlib.pyplot as plt\n",
    "import seaborn as sns\n",
    "\n",
    "sns.set()\n",
    "sns.relplot(data = df, x = 'x1', y = 'x2', hue = 'Classe', s = 100); # o ponto e vírgulo previne a geração de outputs"
   ]
  },
  {
   "cell_type": "markdown",
   "metadata": {
    "id": "F52_OWojXRfD"
   },
   "source": [
    "Considere que as coordenadas dos pontos serão utilizadas como entrada para o neurônio MCP. \n",
    "\n",
    "Vamos definir os parâmetros do neurônio como $\\mathbf{w} = [ 2.9, 1.0 ]$ e $b = 10$.\n",
    "\n",
    "**Lembrete**: Na nossa implementação, b é utilizado como um limiar de ativação, isto é, a saída será $1$ se a soma ponderada das entradas for maior que $10$.\n",
    "\n",
    "Abaixo, criamos um neurônio para atuar como classificador e o utilizamos para predizer as classes de todos os elementos do conjunto de dados. As classes preditss foram adicionadas ao ``DataFrame`` original dos dados. Como pode ser observado, o neurônio foi capaz de classificar corretamente todos elementos do conjunto de dados."
   ]
  },
  {
   "cell_type": "code",
   "execution_count": 14,
   "metadata": {
    "colab": {
     "base_uri": "https://localhost:8080/",
     "height": 488
    },
    "executionInfo": {
     "elapsed": 68,
     "status": "ok",
     "timestamp": 1743356343964,
     "user": {
      "displayName": "Giovanni Comarela",
      "userId": "16730098677819514318"
     },
     "user_tz": 180
    },
    "id": "MqDRf8j4ZxS7",
    "outputId": "24b725b3-dea5-44ef-d174-f2edaf3dd607"
   },
   "outputs": [
    {
     "data": {
      "text/html": [
       "<div>\n",
       "<style scoped>\n",
       "    .dataframe tbody tr th:only-of-type {\n",
       "        vertical-align: middle;\n",
       "    }\n",
       "\n",
       "    .dataframe tbody tr th {\n",
       "        vertical-align: top;\n",
       "    }\n",
       "\n",
       "    .dataframe thead th {\n",
       "        text-align: right;\n",
       "    }\n",
       "</style>\n",
       "<table border=\"1\" class=\"dataframe\">\n",
       "  <thead>\n",
       "    <tr style=\"text-align: right;\">\n",
       "      <th></th>\n",
       "      <th>x1</th>\n",
       "      <th>x2</th>\n",
       "      <th>Classe</th>\n",
       "      <th>Classe Predita</th>\n",
       "    </tr>\n",
       "  </thead>\n",
       "  <tbody>\n",
       "    <tr>\n",
       "      <th>0</th>\n",
       "      <td>3.50</td>\n",
       "      <td>4.25</td>\n",
       "      <td>1</td>\n",
       "      <td>1.0</td>\n",
       "    </tr>\n",
       "    <tr>\n",
       "      <th>1</th>\n",
       "      <td>4.00</td>\n",
       "      <td>3.00</td>\n",
       "      <td>1</td>\n",
       "      <td>1.0</td>\n",
       "    </tr>\n",
       "    <tr>\n",
       "      <th>2</th>\n",
       "      <td>4.00</td>\n",
       "      <td>4.00</td>\n",
       "      <td>1</td>\n",
       "      <td>1.0</td>\n",
       "    </tr>\n",
       "    <tr>\n",
       "      <th>3</th>\n",
       "      <td>4.50</td>\n",
       "      <td>1.75</td>\n",
       "      <td>1</td>\n",
       "      <td>1.0</td>\n",
       "    </tr>\n",
       "    <tr>\n",
       "      <th>4</th>\n",
       "      <td>4.90</td>\n",
       "      <td>4.50</td>\n",
       "      <td>1</td>\n",
       "      <td>1.0</td>\n",
       "    </tr>\n",
       "    <tr>\n",
       "      <th>5</th>\n",
       "      <td>5.00</td>\n",
       "      <td>4.00</td>\n",
       "      <td>1</td>\n",
       "      <td>1.0</td>\n",
       "    </tr>\n",
       "    <tr>\n",
       "      <th>6</th>\n",
       "      <td>5.50</td>\n",
       "      <td>2.50</td>\n",
       "      <td>1</td>\n",
       "      <td>1.0</td>\n",
       "    </tr>\n",
       "    <tr>\n",
       "      <th>7</th>\n",
       "      <td>5.50</td>\n",
       "      <td>3.50</td>\n",
       "      <td>1</td>\n",
       "      <td>1.0</td>\n",
       "    </tr>\n",
       "    <tr>\n",
       "      <th>8</th>\n",
       "      <td>0.50</td>\n",
       "      <td>1.50</td>\n",
       "      <td>0</td>\n",
       "      <td>0.0</td>\n",
       "    </tr>\n",
       "    <tr>\n",
       "      <th>9</th>\n",
       "      <td>1.00</td>\n",
       "      <td>2.50</td>\n",
       "      <td>0</td>\n",
       "      <td>0.0</td>\n",
       "    </tr>\n",
       "    <tr>\n",
       "      <th>10</th>\n",
       "      <td>1.25</td>\n",
       "      <td>0.50</td>\n",
       "      <td>0</td>\n",
       "      <td>0.0</td>\n",
       "    </tr>\n",
       "    <tr>\n",
       "      <th>11</th>\n",
       "      <td>1.50</td>\n",
       "      <td>1.50</td>\n",
       "      <td>0</td>\n",
       "      <td>0.0</td>\n",
       "    </tr>\n",
       "    <tr>\n",
       "      <th>12</th>\n",
       "      <td>2.00</td>\n",
       "      <td>2.00</td>\n",
       "      <td>0</td>\n",
       "      <td>0.0</td>\n",
       "    </tr>\n",
       "    <tr>\n",
       "      <th>13</th>\n",
       "      <td>2.50</td>\n",
       "      <td>0.75</td>\n",
       "      <td>0</td>\n",
       "      <td>0.0</td>\n",
       "    </tr>\n",
       "  </tbody>\n",
       "</table>\n",
       "</div>"
      ],
      "text/plain": [
       "      x1    x2  Classe  Classe Predita\n",
       "0   3.50  4.25       1             1.0\n",
       "1   4.00  3.00       1             1.0\n",
       "2   4.00  4.00       1             1.0\n",
       "3   4.50  1.75       1             1.0\n",
       "4   4.90  4.50       1             1.0\n",
       "5   5.00  4.00       1             1.0\n",
       "6   5.50  2.50       1             1.0\n",
       "7   5.50  3.50       1             1.0\n",
       "8   0.50  1.50       0             0.0\n",
       "9   1.00  2.50       0             0.0\n",
       "10  1.25  0.50       0             0.0\n",
       "11  1.50  1.50       0             0.0\n",
       "12  2.00  2.00       0             0.0\n",
       "13  2.50  0.75       0             0.0"
      ]
     },
     "execution_count": 14,
     "metadata": {},
     "output_type": "execute_result"
    }
   ],
   "source": [
    "classifier = MCPNeuron(weights=[2.9, 1.0], bias=10)\n",
    "\n",
    "y_pred = [classifier.forward(x) for x in df[['x1', 'x2']].values]\n",
    "df['Classe Predita'] = y_pred\n",
    "df"
   ]
  },
  {
   "cell_type": "code",
   "execution_count": 15,
   "metadata": {
    "cellView": "form",
    "colab": {
     "base_uri": "https://localhost:8080/",
     "height": 501
    },
    "executionInfo": {
     "elapsed": 365,
     "status": "ok",
     "timestamp": 1743356344332,
     "user": {
      "displayName": "Giovanni Comarela",
      "userId": "16730098677819514318"
     },
     "user_tz": 180
    },
    "id": "5NN_bMU1OmNO",
    "outputId": "bc5f5c82-6e7b-4e1b-b44e-937102235cea"
   },
   "outputs": [
    {
     "data": {
      "image/png": "[encoded data removed]",
      "text/plain": [
       "<Figure size 654.5x500 with 1 Axes>"
      ]
     },
     "metadata": {},
     "output_type": "display_data"
    }
   ],
   "source": [
    "#@title\n",
    "sns.relplot(data = df, x = 'x1', y = 'x2', hue = 'Classe', style = 'Classe Predita', s = 100);"
   ]
  },
  {
   "cell_type": "markdown",
   "metadata": {},
   "source": [
    "## Atividade: Avaliando a Performance do Classificador usando a Acurácia"
   ]
  },
  {
   "cell_type": "markdown",
   "metadata": {},
   "source": [
    "Implemente uma função para calcular a acurácia. Esta métrica é dada pelo percentual de amostras classificadas corretamente. Ela é obtida dividindo o número de itens em que a classe predita é igual à esperada pelo número total de amostras. \n",
    "\n",
    "Adicione asserts para verificar se os tamanhos das listas de entrada são iguais e se estes tamanhos são maiores que zero."
   ]
  },
  {
   "cell_type": "code",
   "execution_count": null,
   "metadata": {
    "tags": [
     "accuracy_metric"
    ]
   },
   "outputs": [],
   "source": [
    "# resposta:\n",
    "\n",
    "def accuracy_metric(expected, predicted):\n",
    "    correct = sum(1 for e, p in zip(expected, predicted) if e == p)\n",
    "    return correct / len(expected)"
   ]
  },
  {
   "cell_type": "code",
   "execution_count": 17,
   "metadata": {},
   "outputs": [
    {
     "data": {
      "text/plain": [
       "1.0"
      ]
     },
     "execution_count": 17,
     "metadata": {},
     "output_type": "execute_result"
    }
   ],
   "source": [
    "expected = df['Classe'].values\n",
    "predicted = df['Classe Predita'].values\n",
    "\n",
    "accuracy_metric(expected, predicted)"
   ]
  },
  {
   "cell_type": "markdown",
   "metadata": {},
   "source": [
    "## O Neurônio MCP é capaz de Resolver apenas Problemas Linearmente Separáveis"
   ]
  },
  {
   "cell_type": "markdown",
   "metadata": {
    "id": "J2s1x6nAcSGE"
   },
   "source": [
    "A Figura a seguir apresenta as regiões de decisão do classificador. Qualquer elemento/ponto que esteja na área azul claro será classificado como pertencente à classe $0$. Analogamente, pontos na região vermelho claro serão classificados como sendo da classe $1$."
   ]
  },
  {
   "cell_type": "code",
   "execution_count": null,
   "metadata": {},
   "outputs": [
    {
     "data": {
      "image/png": "[encoded data removed]",
      "text/plain": [
       "<Figure size 500x500 with 1 Axes>"
      ]
     },
     "metadata": {},
     "output_type": "display_data"
    }
   ],
   "source": [
    "import matplotlib.pyplot as plt\n",
    "from matplotlib.colors import ListedColormap\n",
    "\n",
    "def draw_classification_region(data: pd.DataFrame, classifier: MCPNeuron):\n",
    "    cmap_light = ListedColormap(['#ADD8E6', '#AAFFAA', '#ffdfd4'])\n",
    "\n",
    "    h = .01\n",
    "\n",
    "    x_min = data['x1'].min() - 0.5\n",
    "    x_max = data['x1'].max() + 0.5\n",
    "    y_min = data['x2'].min() - 0.5\n",
    "    y_max = data['x2'].max() + 0.5\n",
    "\n",
    "    xx, yy = np.meshgrid(np.arange(x_min, x_max, h),\n",
    "                        np.arange(y_min, y_max, h))\n",
    "\n",
    "    f, axs = plt.subplots(1, 1, figsize=(5, 5))\n",
    "\n",
    "    Z = np.array([classifier.forward([x1, x2]) for x1, x2 in zip(xx.ravel(), yy.ravel())])\n",
    "    Z = Z.reshape(xx.shape)\n",
    "    axs.pcolormesh(xx, yy, Z, cmap = cmap_light, shading = 'auto')\n",
    "\n",
    "    axs.scatter(df[df['Classe'] == 1]['x1'], df[df['Classe'] == 1]['x2'], color = 'orange', label = 'Classe 1')\n",
    "    axs.scatter(df[df['Classe'] == 0]['x1'], df[df['Classe'] == 0]['x2'], color = 'blue', label = 'Classe 0')\n",
    "\n",
    "    plt.xlabel('x1')\n",
    "    plt.ylabel('x2')\n",
    "\n",
    "    plt.xlim((x_min, x_max))\n",
    "    plt.ylim((y_min, y_max))\n",
    "    plt.legend(loc = 'best');\n",
    "\n",
    "\n",
    "draw_classification_region(df, classifier)\n"
   ]
  },
  {
   "cell_type": "markdown",
   "metadata": {
    "id": "5OpKjRP4dNYb"
   },
   "source": [
    "Como pode ser visto, o neurônio MCP é um classificador linear, ou seja, as regiões de decisão são delimitadas por uma função linear.\n",
    "\n",
    "Isto faz sentido quando observamos que $\\mathbf{w}^T \\mathbf{x} + b$ lembra a fórmula utilizada para representar hiperplanos (retas em 2D, planos em 3D, etc.). Em particular, o hiperplano definido por $\\mathbf{w}^T \\mathbf{x} + b = 0$ é a fronteira de decisão do classificador (a reta de separação na figura acima). Analisando a operação do neurônio como uma operação linear, percebemos que o vetor $\\mathbf{w}$ define a inclinação do hiperplano e $b$ define o deslocamento do hiperplano em relação à origem.\n",
    "\n",
    "Concluímos, assim, que **o neurônio MCP é capaz de resolver bem apenas problemas linearmente separáveis**, isto é, aqueles em que a maioria dos dados de classes diferentes podem ser separados por um hiperplano. Infelizmente, a maioria dos problemas interessantes não são linearmente separáveis e redes neurais mais complexas são necessárias para atacar estes problemas. \n",
    "\n",
    "\n",
    "\n"
   ]
  },
  {
   "cell_type": "markdown",
   "metadata": {},
   "source": [
    "### Exemplo Ilustrativo"
   ]
  },
  {
   "cell_type": "markdown",
   "metadata": {
    "id": "FbebUxvc3EhO"
   },
   "source": [
    "Para ilustrar esta limitação, o conjunto de dados abaixo simula uma versão *soft* da porta lógica `XOR` em que valores próximos a $(0, 0)$ e $(1, 1)$ devem receber valor $0$ e valores próximos a $(0, 1)$ ou $(1, 0)$ devem receber valor $1$.\n"
   ]
  },
  {
   "cell_type": "code",
   "execution_count": 19,
   "metadata": {
    "cellView": "form",
    "colab": {
     "base_uri": "https://localhost:8080/",
     "height": 425
    },
    "executionInfo": {
     "elapsed": 56,
     "status": "ok",
     "timestamp": 1743356347283,
     "user": {
      "displayName": "Giovanni Comarela",
      "userId": "16730098677819514318"
     },
     "user_tz": 180
    },
    "id": "XRi3NRLix97E",
    "outputId": "7eb7a36f-247b-4eac-e5d5-89cfd6742634"
   },
   "outputs": [
    {
     "data": {
      "text/html": [
       "<div>\n",
       "<style scoped>\n",
       "    .dataframe tbody tr th:only-of-type {\n",
       "        vertical-align: middle;\n",
       "    }\n",
       "\n",
       "    .dataframe tbody tr th {\n",
       "        vertical-align: top;\n",
       "    }\n",
       "\n",
       "    .dataframe thead th {\n",
       "        text-align: right;\n",
       "    }\n",
       "</style>\n",
       "<table border=\"1\" class=\"dataframe\">\n",
       "  <thead>\n",
       "    <tr style=\"text-align: right;\">\n",
       "      <th></th>\n",
       "      <th>x1</th>\n",
       "      <th>x2</th>\n",
       "      <th>Classe</th>\n",
       "    </tr>\n",
       "  </thead>\n",
       "  <tbody>\n",
       "    <tr>\n",
       "      <th>0</th>\n",
       "      <td>0.84</td>\n",
       "      <td>0.67</td>\n",
       "      <td>0</td>\n",
       "    </tr>\n",
       "    <tr>\n",
       "      <th>1</th>\n",
       "      <td>0.67</td>\n",
       "      <td>0.84</td>\n",
       "      <td>0</td>\n",
       "    </tr>\n",
       "    <tr>\n",
       "      <th>2</th>\n",
       "      <td>1.00</td>\n",
       "      <td>1.00</td>\n",
       "      <td>0</td>\n",
       "    </tr>\n",
       "    <tr>\n",
       "      <th>3</th>\n",
       "      <td>0.17</td>\n",
       "      <td>0.33</td>\n",
       "      <td>0</td>\n",
       "    </tr>\n",
       "    <tr>\n",
       "      <th>4</th>\n",
       "      <td>0.33</td>\n",
       "      <td>0.17</td>\n",
       "      <td>0</td>\n",
       "    </tr>\n",
       "    <tr>\n",
       "      <th>5</th>\n",
       "      <td>0.00</td>\n",
       "      <td>0.00</td>\n",
       "      <td>0</td>\n",
       "    </tr>\n",
       "    <tr>\n",
       "      <th>6</th>\n",
       "      <td>0.84</td>\n",
       "      <td>0.33</td>\n",
       "      <td>1</td>\n",
       "    </tr>\n",
       "    <tr>\n",
       "      <th>7</th>\n",
       "      <td>0.67</td>\n",
       "      <td>0.17</td>\n",
       "      <td>1</td>\n",
       "    </tr>\n",
       "    <tr>\n",
       "      <th>8</th>\n",
       "      <td>1.00</td>\n",
       "      <td>0.00</td>\n",
       "      <td>1</td>\n",
       "    </tr>\n",
       "    <tr>\n",
       "      <th>9</th>\n",
       "      <td>0.17</td>\n",
       "      <td>0.67</td>\n",
       "      <td>1</td>\n",
       "    </tr>\n",
       "    <tr>\n",
       "      <th>10</th>\n",
       "      <td>0.33</td>\n",
       "      <td>0.84</td>\n",
       "      <td>1</td>\n",
       "    </tr>\n",
       "    <tr>\n",
       "      <th>11</th>\n",
       "      <td>0.00</td>\n",
       "      <td>1.00</td>\n",
       "      <td>1</td>\n",
       "    </tr>\n",
       "  </tbody>\n",
       "</table>\n",
       "</div>"
      ],
      "text/plain": [
       "      x1    x2  Classe\n",
       "0   0.84  0.67       0\n",
       "1   0.67  0.84       0\n",
       "2   1.00  1.00       0\n",
       "3   0.17  0.33       0\n",
       "4   0.33  0.17       0\n",
       "5   0.00  0.00       0\n",
       "6   0.84  0.33       1\n",
       "7   0.67  0.17       1\n",
       "8   1.00  0.00       1\n",
       "9   0.17  0.67       1\n",
       "10  0.33  0.84       1\n",
       "11  0.00  1.00       1"
      ]
     },
     "execution_count": 19,
     "metadata": {},
     "output_type": "execute_result"
    }
   ],
   "source": [
    "#@title\n",
    "\n",
    "import numpy as np\n",
    "import pandas as pd\n",
    "\n",
    "df = pd.DataFrame(\n",
    "    [[0.84, 0.67, 0],\n",
    "     [0.67, 0.84, 0],\n",
    "     [1.00, 1.00, 0],\n",
    "     [0.17, 0.33, 0],\n",
    "     [0.33, 0.17, 0],\n",
    "     [0.00, 0.00, 0],\n",
    "     [0.84, 0.33, 1],\n",
    "     [0.67, 0.17, 1],\n",
    "     [1.00, 0.00, 1],\n",
    "     [0.17, 0.67, 1],\n",
    "     [0.33, 0.84, 1],\n",
    "     [0.00, 1.00, 1]], columns = 'x1 x2 Classe'.split())\n",
    "\n",
    "df"
   ]
  },
  {
   "cell_type": "code",
   "execution_count": null,
   "metadata": {
    "cellView": "form",
    "colab": {
     "base_uri": "https://localhost:8080/",
     "height": 501
    },
    "executionInfo": {
     "elapsed": 277,
     "status": "ok",
     "timestamp": 1743356347561,
     "user": {
      "displayName": "Giovanni Comarela",
      "userId": "16730098677819514318"
     },
     "user_tz": 180
    },
    "id": "3cv55wmXyWaV",
    "outputId": "1ad7b5cc-76db-4205-c301-ac3df5438c3b"
   },
   "outputs": [
    {
     "data": {
      "image/png": "[encoded data removed]",
      "text/plain": [
       "<Figure size 563.5x500 with 1 Axes>"
      ]
     },
     "metadata": {},
     "output_type": "display_data"
    }
   ],
   "source": [
    "\n",
    "import matplotlib.pyplot as plt\n",
    "import seaborn as sns\n",
    "sns.set()\n",
    "\n",
    "sns.relplot(data = df, x = 'x1', y = 'x2', hue = 'Classe', s = 100);"
   ]
  },
  {
   "cell_type": "markdown",
   "metadata": {
    "id": "-mtvsAfoz1kf"
   },
   "source": [
    "Veja que elementos do primeiro e terceiro quadrantes (onde $x_1$ e $x_2$ possuem o mesmo sinal) pertencem à classe $1$. Já os elementos dos quadrantes dois e quatro (onde $x_1$ e $x_2$ possuem sinais opostos) pertencem à classe $0$. Apesar de ter um padrão claro e simples, não é possível discriminar os pontos de acordo com as duas classes utilizando um neurônio MCP.\n",
    "\n",
    "Faça o teste! Tente encontrar uma reta que permita separar os pontos de classes diferentes em duas regiões do espaço.\n"
   ]
  },
  {
   "cell_type": "markdown",
   "metadata": {},
   "source": [
    "### Visualização do Hiperplano de Decisão\n",
    "\n",
    "A célula abaixo demonstra como visualizar o plano definido pelos parâmetros do neurônio MCP. \n",
    "\n",
    "Para ganhar intuição geométrica dos efeitos de modificar os parâmetros do neurônio, brinque com os valores na última linha e execute a célula novamente para verificar o efeito no plano.\n"
   ]
  },
  {
   "cell_type": "code",
   "execution_count": null,
   "metadata": {},
   "outputs": [
    {
     "data": {
      "image/png": "[encoded data removed]",
      "text/plain": [
       "<Figure size 640x480 with 1 Axes>"
      ]
     },
     "metadata": {},
     "output_type": "display_data"
    }
   ],
   "source": [
    "import numpy as np\n",
    "import matplotlib.pyplot as plt\n",
    "\n",
    "\n",
    "def plot_plane(w1, w2, bias, x1_range=(-1.2, 1.2), x2_range=(-1.2, 1.2)):\n",
    "    fig = plt.figure()\n",
    "    ax = fig.add_subplot(111, projection='3d')\n",
    "\n",
    "    # Create grid\n",
    "    x1 = np.linspace(*x1_range, 10)\n",
    "    x2 = np.linspace(*x2_range, 10)\n",
    "    X1, X2 = np.meshgrid(x1, x2)\n",
    "    Z = w1 * X1 + w2 * X2 + bias\n",
    "    Z2 = 0 * X1 + 0 * X2 + 0\n",
    "\n",
    "    # Plot the surface\n",
    "    ax.plot_surface(X1, X2, Z, alpha=0.5, rstride=1,\n",
    "                    cstride=1, color='cyan', edgecolor='none')\n",
    "    ax.plot_surface(X1, X2, Z2, alpha=0.5, rstride=1,\n",
    "                    cstride=1, color='magenta', edgecolor='none')\n",
    "\n",
    "    # Set labels\n",
    "    ax.set_xlabel('X1')\n",
    "    ax.set_ylabel('X2')\n",
    "    ax.set_zlabel('Z')\n",
    "\n",
    "    plt.show()\n",
    "\n",
    "# Modifique os valores abaixo e verifique como o plano é afetado\n",
    "plot_plane(w1=1, w2=1, bias=1)"
   ]
  },
  {
   "cell_type": "markdown",
   "metadata": {},
   "source": [
    "## Atividade: \"Treinando\" o Classificador Manualmente"
   ]
  },
  {
   "cell_type": "markdown",
   "metadata": {},
   "source": [
    "Crie um objeto do tipo MCPNeuron no local indicado e inicialize pesos e bias de forma a maximizar a performance do classificador. \n",
    "\n",
    "O treinamento do modelo é o ajuste dos parâmetros (pesos e bias). Neste exemplo, estamos fazendo isto manualmente e nas próximas aulas aprenderemos como fazer isto automaticamente.\n",
    "\n",
    "A célula abaixo cria uma base de dados, classifica as amostras, desenha a região de classificação e mostra a acurácia na tela."
   ]
  },
  {
   "cell_type": "code",
   "execution_count": null,
   "metadata": {},
   "outputs": [
    {
     "name": "stdout",
     "output_type": "stream",
     "text": [
      ">> Accuracy:  0.85\n"
     ]
    },
    {
     "data": {
      "image/png": "[encoded data removed]",
      "text/plain": [
       "<Figure size 500x500 with 1 Axes>"
      ]
     },
     "metadata": {},
     "output_type": "display_data"
    }
   ],
   "source": [
    "# resposta:\n",
    "\n",
    "# imports\n",
    "import numpy as np\n",
    "import pandas as pd\n",
    "from sklearn.datasets import make_moons\n",
    "\n",
    "# cria o dataset\n",
    "x, y = make_moons(noise=0.3, random_state=0)\n",
    "data = np.concat([x, np.expand_dims(y, axis=1)], axis=1)\n",
    "df = pd.DataFrame(data, columns = 'x1 x2 Classe'.split())\n",
    "\n",
    "# define o classificador\n",
    "\n",
    "##########################\n",
    "# ADICIONE A RESPOSTA ABAIXO\n",
    "##########################\n",
    "classifier = MCPNeuron(weights=[0.5, -1], bias=-0.1)\n",
    "\n",
    "# desenha as regicoes de classificacao\n",
    "draw_classification_region(df, classifier)\n",
    "\n",
    "# calcula a metrica\n",
    "predicted = [classifier.forward(sample) for sample in x]\n",
    "print(\">> Accuracy: \", accuracy_metric(expected=y, predicted=predicted))"
   ]
  },
  {
   "cell_type": "markdown",
   "metadata": {
    "id": "ATh-a2W4s15I"
   },
   "source": [
    "## Referências"
   ]
  },
  {
   "cell_type": "markdown",
   "metadata": {
    "id": "6CoefEre60dp"
   },
   "source": [
    "- Machine Learning, Tom Mitchell, McGraw Hill, 1997.\n",
    "\n",
    "- McCulloch and Pitts: A logical calculus of the ideas immanent in nervous activity. Bulletin of Mathematical Biophysics, 1943.\n",
    "\n",
    "- Rosenblatt: The perceptron - a probabilistic model for information storage and organization in the brain. Psychological Review, 1958.\n",
    "\n",
    "- Minsky and Papert: Perceptrons: An introduction to computational geometry. MIT Press, 1969.\n",
    "\n",
    "- Mohammed J. Zaki, Wagner Meira, Jr., Data Mining and Machine Learning: Fundamental Concepts and Algorithms, 2nd Edition, Cambridge University Press, March 2020."
   ]
  }
 ],
 "metadata": {
  "colab": {
   "provenance": [
    {
     "file_id": "1p3NSkZNOyr8gJxCyraGciFLXcmZyYByf",
     "timestamp": 1745959232276
    }
   ],
   "toc_visible": true
  },
  "kernelspec": {
   "display_name": "Python 3",
   "language": "python",
   "name": "python3"
  },
  "language_info": {
   "codemirror_mode": {
    "name": "ipython",
    "version": 3
   },
   "file_extension": ".py",
   "mimetype": "text/x-python",
   "name": "python",
   "nbconvert_exporter": "python",
   "pygments_lexer": "ipython3",
   "version": "3.10.5"
  }
 },
 "nbformat": 4,
 "nbformat_minor": 0
}
